{
  "nbformat": 4,
  "nbformat_minor": 0,
  "metadata": {
    "colab": {
      "name": "week15-a108260048-廖凰君.ipynb",
      "provenance": [],
      "collapsed_sections": [],
      "include_colab_link": true
    },
    "kernelspec": {
      "name": "python3",
      "display_name": "Python 3"
    }
  },
  "cells": [
    {
      "cell_type": "markdown",
      "metadata": {
        "id": "view-in-github",
        "colab_type": "text"
      },
      "source": [
        "<a href=\"https://colab.research.google.com/github/lazywoman9008/Computational-Thinking-and-Programming-Design/blob/master/week15_a108260048_%E5%BB%96%E5%87%B0%E5%90%9B.ipynb\" target=\"_parent\"><img src=\"https://colab.research.google.com/assets/colab-badge.svg\" alt=\"Open In Colab\"/></a>"
      ]
    },
    {
      "cell_type": "code",
      "metadata": {
        "id": "8AZrsILplKIX",
        "colab_type": "code",
        "colab": {
          "base_uri": "https://localhost:8080/",
          "height": 221
        },
        "outputId": "9474990b-3f30-4264-eb31-3790415cf5bb"
      },
      "source": [
        "x=5\n",
        "if x<10:\n",
        "  print(\"x is less then 10\")\n",
        "\n",
        "x=5 #初始值\n",
        "while x<10: #判斷條件\n",
        "  print(\"x is less then 10\")\n",
        "  print(\"I am still here\")\n",
        "  x=x+1 #更新條件 \n",
        "print(\"Finished\")  \n"
      ],
      "execution_count": 1,
      "outputs": [
        {
          "output_type": "stream",
          "text": [
            "x is less then 10\n",
            "x is less then 10\n",
            "I am still here\n",
            "x is less then 10\n",
            "I am still here\n",
            "x is less then 10\n",
            "I am still here\n",
            "x is less then 10\n",
            "I am still here\n",
            "x is less then 10\n",
            "I am still here\n",
            "Finished\n"
          ],
          "name": "stdout"
        }
      ]
    },
    {
      "cell_type": "code",
      "metadata": {
        "id": "SA8Rrw9Xn49F",
        "colab_type": "code",
        "colab": {
          "base_uri": "https://localhost:8080/",
          "height": 102
        },
        "outputId": "21a87889-68a8-4a87-a23b-692073522cf5"
      },
      "source": [
        "x=1 #初始值\n",
        "while x<5: #判斷條件\n",
        "  print(\"變數x是, x\")\n",
        "  x=x+1 #更新條件\n",
        "print(\"Finished\")  "
      ],
      "execution_count": 3,
      "outputs": [
        {
          "output_type": "stream",
          "text": [
            "變數x是, x\n",
            "變數x是, x\n",
            "變數x是, x\n",
            "變數x是, x\n",
            "Finished\n"
          ],
          "name": "stdout"
        }
      ]
    },
    {
      "cell_type": "code",
      "metadata": {
        "id": "UYpEDqxxpDN2",
        "colab_type": "code",
        "colab": {
          "base_uri": "https://localhost:8080/",
          "height": 204
        },
        "outputId": "656c8513-e320-441e-8f1e-4adac6fe1249"
      },
      "source": [
        "#印10次Hello\n",
        "\n",
        "x=1 #初始值\n",
        "while x<=10: #判斷條件\n",
        "  print(\"Hello\")\n",
        "  x=x+1 #更新條件\n",
        "print(\"Finished\")"
      ],
      "execution_count": 5,
      "outputs": [
        {
          "output_type": "stream",
          "text": [
            "Hello\n",
            "Hello\n",
            "Hello\n",
            "Hello\n",
            "Hello\n",
            "Hello\n",
            "Hello\n",
            "Hello\n",
            "Hello\n",
            "Hello\n",
            "Finished\n"
          ],
          "name": "stdout"
        }
      ]
    },
    {
      "cell_type": "code",
      "metadata": {
        "id": "csxIcZ_QqsEJ",
        "colab_type": "code",
        "colab": {
          "base_uri": "https://localhost:8080/",
          "height": 204
        },
        "outputId": "04259035-cb8e-4d97-a6b3-6eedad76bf38"
      },
      "source": [
        "#印10次Hello\n",
        "\n",
        "x=1 #初始值\n",
        "while x<11: #判斷條件\n",
        "  print(\"Hello\")\n",
        "  x=x+1 #更新條件\n",
        "print(\"Finished\")"
      ],
      "execution_count": 6,
      "outputs": [
        {
          "output_type": "stream",
          "text": [
            "Hello\n",
            "Hello\n",
            "Hello\n",
            "Hello\n",
            "Hello\n",
            "Hello\n",
            "Hello\n",
            "Hello\n",
            "Hello\n",
            "Hello\n",
            "Finished\n"
          ],
          "name": "stdout"
        }
      ]
    },
    {
      "cell_type": "code",
      "metadata": {
        "id": "qVudLYTRqvno",
        "colab_type": "code",
        "colab": {
          "base_uri": "https://localhost:8080/",
          "height": 204
        },
        "outputId": "e078a89f-b88c-44bf-cbd9-e7991e74aa6e"
      },
      "source": [
        "#印10次Hello\n",
        "\n",
        "x=0 #初始值\n",
        "while x<10: #判斷條件\n",
        "  print(\"Hello\")\n",
        "  x=x+1 #更新條件\n",
        "print(\"Finished\")"
      ],
      "execution_count": 7,
      "outputs": [
        {
          "output_type": "stream",
          "text": [
            "Hello\n",
            "Hello\n",
            "Hello\n",
            "Hello\n",
            "Hello\n",
            "Hello\n",
            "Hello\n",
            "Hello\n",
            "Hello\n",
            "Hello\n",
            "Finished\n"
          ],
          "name": "stdout"
        }
      ]
    },
    {
      "cell_type": "code",
      "metadata": {
        "id": "f9A2sSaiqzb9",
        "colab_type": "code",
        "colab": {
          "base_uri": "https://localhost:8080/",
          "height": 204
        },
        "outputId": "9d559535-5f01-4c96-c3f5-aa522d0e1aba"
      },
      "source": [
        "#印10次Hello\n",
        "\n",
        "x=0 #初始值\n",
        "while x<10: #判斷條件\n",
        "  x=x+1 #更新條件\n",
        "  print(\"This is\",x,\"times Hello\")\n",
        "print(\"Finished\")"
      ],
      "execution_count": 8,
      "outputs": [
        {
          "output_type": "stream",
          "text": [
            "This is 1 times Hello\n",
            "This is 2 times Hello\n",
            "This is 3 times Hello\n",
            "This is 4 times Hello\n",
            "This is 5 times Hello\n",
            "This is 6 times Hello\n",
            "This is 7 times Hello\n",
            "This is 8 times Hello\n",
            "This is 9 times Hello\n",
            "This is 10 times Hello\n",
            "Finished\n"
          ],
          "name": "stdout"
        }
      ]
    },
    {
      "cell_type": "code",
      "metadata": {
        "id": "3iOUMUAfsT3R",
        "colab_type": "code",
        "colab": {
          "base_uri": "https://localhost:8080/",
          "height": 204
        },
        "outputId": "9b36328c-c544-4ce7-a444-d69ab57bde8c"
      },
      "source": [
        "#印10次Hello\n",
        "\n",
        "x=0 #初始值\n",
        "while x<10: #判斷條件\n",
        "  x=x+1 #更新條件\n",
        "  left=10-x #更新條件\n",
        "  print(\"This is\",x,\"times Hello\",\"You still have\",left,\"times.\")\n",
        "print(\"Finished\")"
      ],
      "execution_count": 9,
      "outputs": [
        {
          "output_type": "stream",
          "text": [
            "This is 1 times Hello You still have 9 times.\n",
            "This is 2 times Hello You still have 8 times.\n",
            "This is 3 times Hello You still have 7 times.\n",
            "This is 4 times Hello You still have 6 times.\n",
            "This is 5 times Hello You still have 5 times.\n",
            "This is 6 times Hello You still have 4 times.\n",
            "This is 7 times Hello You still have 3 times.\n",
            "This is 8 times Hello You still have 2 times.\n",
            "This is 9 times Hello You still have 1 times.\n",
            "This is 10 times Hello You still have 0 times.\n",
            "Finished\n"
          ],
          "name": "stdout"
        }
      ]
    },
    {
      "cell_type": "code",
      "metadata": {
        "id": "7x6H1sbDtDbU",
        "colab_type": "code",
        "colab": {
          "base_uri": "https://localhost:8080/",
          "height": 204
        },
        "outputId": "a5097f16-9335-4849-ccc2-f890656cc83c"
      },
      "source": [
        "#1到10之和\n",
        "\n",
        "x=0 #初始值\n",
        "sum=0 #初始值\n",
        "while x<10: #判斷條件\n",
        "  x=x+1 #更新條件\n",
        "  sum=sum+x #更新條件\n",
        "  print(\"sum is\",sum)\n",
        "print(\"Finished\")"
      ],
      "execution_count": 11,
      "outputs": [
        {
          "output_type": "stream",
          "text": [
            "sum is 1\n",
            "sum is 3\n",
            "sum is 6\n",
            "sum is 10\n",
            "sum is 15\n",
            "sum is 21\n",
            "sum is 28\n",
            "sum is 36\n",
            "sum is 45\n",
            "sum is 55\n",
            "Finished\n"
          ],
          "name": "stdout"
        }
      ]
    },
    {
      "cell_type": "code",
      "metadata": {
        "id": "wL3ALhcpt4K5",
        "colab_type": "code",
        "colab": {
          "base_uri": "https://localhost:8080/",
          "height": 374
        },
        "outputId": "47b597ac-e43a-4149-c262-2d914342c4dc"
      },
      "source": [
        "#1到x之和大於50\n",
        "\n",
        "x=0 #初始值\n",
        "sum=0 #初始值\n",
        "while sum<=50: #判斷條件\n",
        "  x=x+1 #更新條件\n",
        "  sum=sum+x #更新條件\n",
        "  print(\"x is\",x)\n",
        "  print(\"sum is\",sum) \n",
        "print(\"Finished\")"
      ],
      "execution_count": 13,
      "outputs": [
        {
          "output_type": "stream",
          "text": [
            "x is 1\n",
            "sum is 1\n",
            "x is 2\n",
            "sum is 3\n",
            "x is 3\n",
            "sum is 6\n",
            "x is 4\n",
            "sum is 10\n",
            "x is 5\n",
            "sum is 15\n",
            "x is 6\n",
            "sum is 21\n",
            "x is 7\n",
            "sum is 28\n",
            "x is 8\n",
            "sum is 36\n",
            "x is 9\n",
            "sum is 45\n",
            "x is 10\n",
            "sum is 55\n",
            "Finished\n"
          ],
          "name": "stdout"
        }
      ]
    },
    {
      "cell_type": "code",
      "metadata": {
        "id": "pLt6zugg0FW1",
        "colab_type": "code",
        "colab": {
          "base_uri": "https://localhost:8080/",
          "height": 119
        },
        "outputId": "99d45905-0405-4d62-cd7c-5379e5505329"
      },
      "source": [
        "#1到9奇數之和\n",
        "\n",
        "x=1 #初始值\n",
        "sum=0 #初始值\n",
        "while x<11: #判斷條件\n",
        "  sum=sum+x #更新條件\n",
        "  x=x+2 #更新條件\n",
        "  print(\"sum is\",sum)\n",
        "print(\"Finished\")"
      ],
      "execution_count": 14,
      "outputs": [
        {
          "output_type": "stream",
          "text": [
            "sum is 1\n",
            "sum is 4\n",
            "sum is 9\n",
            "sum is 16\n",
            "sum is 25\n",
            "Finished\n"
          ],
          "name": "stdout"
        }
      ]
    },
    {
      "cell_type": "code",
      "metadata": {
        "id": "XQuLtRoIy1OP",
        "colab_type": "code",
        "colab": {
          "base_uri": "https://localhost:8080/",
          "height": 272
        },
        "outputId": "1441a60f-af8e-48b6-d889-5554c62e8a6c"
      },
      "source": [
        "#求大於1000最小平方和的x\n",
        "\n",
        "x=0 #初始值\n",
        "sum=0 #初始值\n",
        "while sum<=1000: #判斷條件\n",
        "  x+=1 #更新條件\n",
        "  sum+=x*x #更新條件\n",
        "  print(\"最小值為\",x) \n",
        "print(\"Finished\")"
      ],
      "execution_count": 16,
      "outputs": [
        {
          "output_type": "stream",
          "text": [
            "最小值為 1\n",
            "最小值為 2\n",
            "最小值為 3\n",
            "最小值為 4\n",
            "最小值為 5\n",
            "最小值為 6\n",
            "最小值為 7\n",
            "最小值為 8\n",
            "最小值為 9\n",
            "最小值為 10\n",
            "最小值為 11\n",
            "最小值為 12\n",
            "最小值為 13\n",
            "最小值為 14\n",
            "Finished\n"
          ],
          "name": "stdout"
        }
      ]
    }
  ]
}