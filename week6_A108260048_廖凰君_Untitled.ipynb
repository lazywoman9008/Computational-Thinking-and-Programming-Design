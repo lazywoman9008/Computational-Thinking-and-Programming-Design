{
  "nbformat": 4,
  "nbformat_minor": 0,
  "metadata": {
    "colab": {
      "name": "week6-A108260048-廖凰君.Untitled",
      "provenance": [],
      "collapsed_sections": [],
      "include_colab_link": true
    },
    "kernelspec": {
      "name": "python3",
      "display_name": "Python 3"
    }
  },
  "cells": [
    {
      "cell_type": "markdown",
      "metadata": {
        "id": "view-in-github",
        "colab_type": "text"
      },
      "source": [
        "<a href=\"https://colab.research.google.com/github/lazywoman9008/Computational-Thinking-and-Programming-Design/blob/master/week6_A108260048_%E5%BB%96%E5%87%B0%E5%90%9B_Untitled.ipynb\" target=\"_parent\"><img src=\"https://colab.research.google.com/assets/colab-badge.svg\" alt=\"Open In Colab\"/></a>"
      ]
    },
    {
      "cell_type": "code",
      "metadata": {
        "id": "Fxf1d-CROnFL",
        "colab_type": "code",
        "outputId": "cf96dfc2-220a-428e-b88d-8280513cf115",
        "colab": {
          "base_uri": "https://localhost:8080/",
          "height": 102
        }
      },
      "source": [
        "第一次期中考成績=int(input('請輸入第一次期中考成績'))\n",
        "第二次情中考成績=int(input('請輸入第二次期中考成績'))\n",
        "期末考成績=int(input('請輸入期末考成績'))\n",
        "總分=第一次期中考成績+第二次情中考成績+期末考成績\n",
        "平均=(第一次期中考成績+第二次情中考成績+期末考成績)/3\n",
        "print('總分為',總分)\n",
        "print('平均為',平均)"
      ],
      "execution_count": 0,
      "outputs": [
        {
          "output_type": "stream",
          "text": [
            "請輸入第一次期中考成績75\n",
            "請輸入第二次期中考成績80\n",
            "請輸入期末考成績65\n",
            "總分為 220\n",
            "平均為 73.33333333333333\n"
          ],
          "name": "stdout"
        }
      ]
    },
    {
      "cell_type": "code",
      "metadata": {
        "id": "UgCX4E5PT_vQ",
        "colab_type": "code",
        "outputId": "a7b0fe0d-ce55-4ca4-ccff-d463711b3c55",
        "colab": {
          "base_uri": "https://localhost:8080/",
          "height": 68
        }
      },
      "source": [
        "x=float(input('請輸入幾尺?'))\n",
        "y=float(input('請輸入幾吋?'))\n",
        "公分=(x*12+y)*2.54\n",
        "print('公制為',公分)"
      ],
      "execution_count": 0,
      "outputs": [
        {
          "output_type": "stream",
          "text": [
            "請輸入幾尺?5\n",
            "請輸入幾吋?8\n",
            "公制為 172.72\n"
          ],
          "name": "stdout"
        }
      ]
    },
    {
      "cell_type": "code",
      "metadata": {
        "id": "hMQW2OfIX9_7",
        "colab_type": "code",
        "outputId": "5e35508c-2a0e-447a-827a-143091a7de70",
        "colab": {
          "base_uri": "https://localhost:8080/",
          "height": 51
        }
      },
      "source": [
        "m=int(input('請輸入座號?'))\n",
        "組別=m//5+1\n",
        "print('組別為',組別)"
      ],
      "execution_count": 0,
      "outputs": [
        {
          "output_type": "stream",
          "text": [
            "請輸入座號?19\n",
            "組別為 4\n"
          ],
          "name": "stdout"
        }
      ]
    },
    {
      "cell_type": "code",
      "metadata": {
        "id": "Fme3t9gpa24j",
        "colab_type": "code",
        "outputId": "0f1c5699-037a-45c2-89d4-d11cfd4f5810",
        "colab": {
          "base_uri": "https://localhost:8080/",
          "height": 51
        }
      },
      "source": [
        "s1=int(input('請輸入購買飲料的罐數?'))\n",
        "money=s1*20-s1//12*40\n",
        "print('需花費',money)"
      ],
      "execution_count": 0,
      "outputs": [
        {
          "output_type": "stream",
          "text": [
            "請輸入購買飲料的罐數?30\n",
            "需花費 520\n"
          ],
          "name": "stdout"
        }
      ]
    },
    {
      "cell_type": "code",
      "metadata": {
        "id": "rebOG43wdKHT",
        "colab_type": "code",
        "colab": {}
      },
      "source": [
        ""
      ],
      "execution_count": 0,
      "outputs": []
    },
    {
      "cell_type": "code",
      "metadata": {
        "id": "hObpUSoScy8f",
        "colab_type": "code",
        "colab": {}
      },
      "source": [
        ""
      ],
      "execution_count": 0,
      "outputs": []
    }
  ]
}