{
  "nbformat": 4,
  "nbformat_minor": 0,
  "metadata": {
    "colab": {
      "name": "week16-a108260048-廖凰君.ipynb",
      "provenance": [],
      "collapsed_sections": [],
      "include_colab_link": true
    },
    "kernelspec": {
      "name": "python3",
      "display_name": "Python 3"
    }
  },
  "cells": [
    {
      "cell_type": "markdown",
      "metadata": {
        "id": "view-in-github",
        "colab_type": "text"
      },
      "source": [
        "<a href=\"https://colab.research.google.com/github/lazywoman9008/Computational-Thinking-and-Programming-Design/blob/master/week16_a108260048_%E5%BB%96%E5%87%B0%E5%90%9B.ipynb\" target=\"_parent\"><img src=\"https://colab.research.google.com/assets/colab-badge.svg\" alt=\"Open In Colab\"/></a>"
      ]
    },
    {
      "cell_type": "code",
      "metadata": {
        "id": "jptHLV-pkTwn",
        "colab_type": "code",
        "colab": {
          "base_uri": "https://localhost:8080/",
          "height": 34
        },
        "outputId": "a721546a-b95e-4276-df87-3f0f5e5b6862"
      },
      "source": [
        "n=0 #初始條件\n",
        "result=0\n",
        "while n<10: #判斷條件\n",
        "      n=n+1 #更新條件\n",
        "      result=result+n #累加\n",
        "print(\"Finished\")      "
      ],
      "execution_count": 1,
      "outputs": [
        {
          "output_type": "stream",
          "text": [
            "Finished\n"
          ],
          "name": "stdout"
        }
      ]
    },
    {
      "cell_type": "code",
      "metadata": {
        "id": "nJ6BP5LRl9uE",
        "colab_type": "code",
        "colab": {
          "base_uri": "https://localhost:8080/",
          "height": 250
        },
        "outputId": "8e8d24b2-adcb-4185-b697-e621b7246318"
      },
      "source": [
        "#無窮迴圈: while True + break\n",
        "\n",
        "x=5\n",
        "while True:\n",
        "    print(\"Helllo\") #運算式\n",
        "    if 條件:\n",
        "        執行動作\n",
        "    else:    \n",
        "        break"
      ],
      "execution_count": 3,
      "outputs": [
        {
          "output_type": "stream",
          "text": [
            "Helllo\n"
          ],
          "name": "stdout"
        },
        {
          "output_type": "error",
          "ename": "NameError",
          "evalue": "ignored",
          "traceback": [
            "\u001b[0;31m---------------------------------------------------------------------------\u001b[0m",
            "\u001b[0;31mNameError\u001b[0m                                 Traceback (most recent call last)",
            "\u001b[0;32m<ipython-input-3-e1a7ccfc206b>\u001b[0m in \u001b[0;36m<module>\u001b[0;34m()\u001b[0m\n\u001b[1;32m      3\u001b[0m \u001b[0;32mwhile\u001b[0m \u001b[0;32mTrue\u001b[0m\u001b[0;34m:\u001b[0m\u001b[0;34m\u001b[0m\u001b[0;34m\u001b[0m\u001b[0m\n\u001b[1;32m      4\u001b[0m     \u001b[0mprint\u001b[0m\u001b[0;34m(\u001b[0m\u001b[0;34m\"Helllo\"\u001b[0m\u001b[0;34m)\u001b[0m \u001b[0;31m#運算式\u001b[0m\u001b[0;34m\u001b[0m\u001b[0;34m\u001b[0m\u001b[0m\n\u001b[0;32m----> 5\u001b[0;31m     \u001b[0;32mif\u001b[0m \u001b[0m條件\u001b[0m\u001b[0;34m:\u001b[0m\u001b[0;34m\u001b[0m\u001b[0;34m\u001b[0m\u001b[0m\n\u001b[0m\u001b[1;32m      6\u001b[0m         \u001b[0m執行動作\u001b[0m\u001b[0;34m\u001b[0m\u001b[0;34m\u001b[0m\u001b[0m\n\u001b[1;32m      7\u001b[0m     \u001b[0;32melse\u001b[0m\u001b[0;34m:\u001b[0m\u001b[0;34m\u001b[0m\u001b[0;34m\u001b[0m\u001b[0m\n",
            "\u001b[0;31mNameError\u001b[0m: name '條件' is not defined"
          ]
        }
      ]
    },
    {
      "cell_type": "code",
      "metadata": {
        "id": "5KCPsUb-oUxL",
        "colab_type": "code",
        "colab": {
          "base_uri": "https://localhost:8080/",
          "height": 51
        },
        "outputId": "5c217168-18cc-47bf-ddba-e094607792b7"
      },
      "source": [
        "while True:\n",
        "  password=input(\"Enter Your Password: \")\n",
        "  if password==\"123\":\n",
        "    print(\"Correct\")\n",
        "    break\n",
        "  else:\n",
        "    print(\"Fail, Try Again\")  "
      ],
      "execution_count": 24,
      "outputs": [
        {
          "output_type": "stream",
          "text": [
            "Enter Your Password: 123\n",
            "Correct\n"
          ],
          "name": "stdout"
        }
      ]
    },
    {
      "cell_type": "code",
      "metadata": {
        "id": "vzHzY_pDpP2l",
        "colab_type": "code",
        "colab": {
          "base_uri": "https://localhost:8080/",
          "height": 51
        },
        "outputId": "718625ec-c897-4e96-bea6-dfcc7bc4d94c"
      },
      "source": [
        "anser=\"123\"\n",
        "while True:\n",
        "  password=input(\"Enter Your Password: \")\n",
        "  if password == anser:\n",
        "    print(\"Correct\")\n",
        "    break\n",
        "  else:\n",
        "    print(\"Fail, Try Again\")  "
      ],
      "execution_count": 7,
      "outputs": [
        {
          "output_type": "stream",
          "text": [
            "Enter Your Password: 123\n",
            "Correct\n"
          ],
          "name": "stdout"
        }
      ]
    },
    {
      "cell_type": "code",
      "metadata": {
        "id": "P58iY2dqpwqd",
        "colab_type": "code",
        "colab": {
          "base_uri": "https://localhost:8080/",
          "height": 68
        },
        "outputId": "82bfd763-a2f9-40d1-cfa7-2817ffa86d4e"
      },
      "source": [
        "帳號=\"lazy\"\n",
        "密碼=\"0123\"\n",
        "while True:\n",
        "  account=input(\"輸入帳號:\")\n",
        "  password=input(\"輸入密碼:\")\n",
        "  if account==帳號 and password==密碼:\n",
        "     print(\"Correct\")\n",
        "     break\n",
        "  else:\n",
        "     print(\"Fail, Try Again\")"
      ],
      "execution_count": 14,
      "outputs": [
        {
          "output_type": "stream",
          "text": [
            "輸入帳號:lazy\n",
            "輸入密碼:0123\n",
            "Correct\n"
          ],
          "name": "stdout"
        }
      ]
    },
    {
      "cell_type": "code",
      "metadata": {
        "id": "bKprt8BSwMRk",
        "colab_type": "code",
        "colab": {
          "base_uri": "https://localhost:8080/",
          "height": 153
        },
        "outputId": "019c4aaf-9fe9-46e2-bdf6-0bf4e664b507"
      },
      "source": [
        "密碼=\"0123\"\n",
        "times=0\n",
        "while times <= 3:\n",
        "  password=input(\"輸入密碼:\")\n",
        "  if password==密碼:\n",
        "     print(\"Correct\")\n",
        "     break\n",
        "  else:\n",
        "     times=times+1\n",
        "     chance=3-times\n",
        "     print(\"密碼錯誤!還有\", chance, \"次機會\")"
      ],
      "execution_count": 17,
      "outputs": [
        {
          "output_type": "stream",
          "text": [
            "輸入密碼:2222\n",
            "密碼錯誤!還有 2 次機會\n",
            "輸入密碼:0000\n",
            "密碼錯誤!還有 1 次機會\n",
            "輸入密碼:3333\n",
            "密碼錯誤!還有 0 次機會\n",
            "輸入密碼:2222\n",
            "密碼錯誤!還有 -1 次機會\n"
          ],
          "name": "stdout"
        }
      ]
    },
    {
      "cell_type": "code",
      "metadata": {
        "id": "rJevMyzFxKyw",
        "colab_type": "code",
        "colab": {
          "base_uri": "https://localhost:8080/",
          "height": 34
        },
        "outputId": "669db2bc-0032-40b8-972d-70b65ead8cbf"
      },
      "source": [
        "for a in range(6):\n",
        "  print(a, end=\" \") "
      ],
      "execution_count": 26,
      "outputs": [
        {
          "output_type": "stream",
          "text": [
            "0 1 2 3 4 5 "
          ],
          "name": "stdout"
        }
      ]
    },
    {
      "cell_type": "code",
      "metadata": {
        "id": "OlZ0nSNa2egE",
        "colab_type": "code",
        "colab": {
          "base_uri": "https://localhost:8080/",
          "height": 34
        },
        "outputId": "fdf9bfc3-ec81-42d3-947b-5e02416f5dff"
      },
      "source": [
        "for b in range(1,6,2):\n",
        "  print(b, end=\" \")"
      ],
      "execution_count": 28,
      "outputs": [
        {
          "output_type": "stream",
          "text": [
            "1 3 5 "
          ],
          "name": "stdout"
        }
      ]
    },
    {
      "cell_type": "code",
      "metadata": {
        "id": "_0NGdzP-2zy6",
        "colab_type": "code",
        "colab": {
          "base_uri": "https://localhost:8080/",
          "height": 34
        },
        "outputId": "200bcd68-1d21-4dbb-e7b1-ca5f3342805f"
      },
      "source": [
        "sum=0 #起始條件\n",
        "for a in range(1,11,2): #判斷條件(計數)\n",
        "    sum=sum+x               #加總\n",
        "print(\"1+3+5+7+9=\", sum)  "
      ],
      "execution_count": 30,
      "outputs": [
        {
          "output_type": "stream",
          "text": [
            "1+3+5+7+9= 25\n"
          ],
          "name": "stdout"
        }
      ]
    },
    {
      "cell_type": "code",
      "metadata": {
        "id": "vwlN9mBM307r",
        "colab_type": "code",
        "colab": {}
      },
      "source": [
        ""
      ],
      "execution_count": 0,
      "outputs": []
    }
  ]
}