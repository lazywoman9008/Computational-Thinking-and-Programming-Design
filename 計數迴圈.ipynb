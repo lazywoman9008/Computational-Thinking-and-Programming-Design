{
  "nbformat": 4,
  "nbformat_minor": 0,
  "metadata": {
    "colab": {
      "name": "計數迴圈.ipynb",
      "provenance": [],
      "collapsed_sections": [],
      "include_colab_link": true
    },
    "kernelspec": {
      "name": "python3",
      "display_name": "Python 3"
    }
  },
  "cells": [
    {
      "cell_type": "markdown",
      "metadata": {
        "id": "view-in-github",
        "colab_type": "text"
      },
      "source": [
        "<a href=\"https://colab.research.google.com/github/lazywoman9008/Computational-Thinking-and-Programming-Design/blob/master/%E8%A8%88%E6%95%B8%E8%BF%B4%E5%9C%88.ipynb\" target=\"_parent\"><img src=\"https://colab.research.google.com/assets/colab-badge.svg\" alt=\"Open In Colab\"/></a>"
      ]
    },
    {
      "cell_type": "code",
      "metadata": {
        "id": "g5QpXyUkqgzT",
        "colab_type": "code",
        "colab": {
          "base_uri": "https://localhost:8080/",
          "height": 204
        },
        "outputId": "400109b5-5ee9-4929-d9fc-f16833de0c0d"
      },
      "source": [
        "#計數迴圈\n",
        "\n",
        "for i in range(6): #range(0, 6, 1)[0, 1, 2, 3, 4, 5]\n",
        "    print(i)\n",
        "\n",
        "#range(6)\n",
        "#range(0,6)\n",
        "#range(0,6,1)\n",
        "#range(2,10,1)[2,3,4,5,6,7,8,9]\n",
        "#range(2,10,3)[2,5,8]\n",
        "#range(10,2,-3)[10,7,4]\n",
        "\n",
        "#求1到9的奇數和1+3+5+7+9=?\n",
        "\n",
        "sum=0\n",
        "for i in range(1,10,2):  #[1,3,5,7,9]\n",
        "    sum=sum+i\n",
        "    print(\"When i is\",i,\"the sum is\",sum)"
      ],
      "execution_count": 2,
      "outputs": [
        {
          "output_type": "stream",
          "text": [
            "0\n",
            "1\n",
            "2\n",
            "3\n",
            "4\n",
            "5\n",
            "When i is 1 the sum is 1\n",
            "When i is 3 the sum is 4\n",
            "When i is 5 the sum is 9\n",
            "When i is 7 the sum is 16\n",
            "When i is 9 the sum is 25\n"
          ],
          "name": "stdout"
        }
      ]
    },
    {
      "cell_type": "code",
      "metadata": {
        "id": "p0OARgfgtKid",
        "colab_type": "code",
        "colab": {
          "base_uri": "https://localhost:8080/",
          "height": 204
        },
        "outputId": "a2f97686-e549-41c6-c7b2-d76a3f21b88d"
      },
      "source": [
        "#1到n之平方和 1^2+2^2+3^2+.....+n^2=?\n",
        "\n",
        "n=int(input('請輸入n值?'))\n",
        "sum=0\n",
        "for i in range(1,n+1,1):  #[1,2,....,n]\n",
        "    sum = sum + i**2\n",
        "    print(sum)"
      ],
      "execution_count": 8,
      "outputs": [
        {
          "output_type": "stream",
          "text": [
            "請輸入n值?10\n",
            "1\n",
            "5\n",
            "14\n",
            "30\n",
            "55\n",
            "91\n",
            "140\n",
            "204\n",
            "285\n",
            "385\n"
          ],
          "name": "stdout"
        }
      ]
    },
    {
      "cell_type": "code",
      "metadata": {
        "id": "97mviQpdurk3",
        "colab_type": "code",
        "colab": {
          "base_uri": "https://localhost:8080/",
          "height": 85
        },
        "outputId": "57029a01-7a4c-4a64-efd6-f0f95ad867e9"
      },
      "source": [
        "#3+6+9+12=?\n",
        "\n",
        "sum=0\n",
        "for i in range(3,13,3):\n",
        "    sum=sum+i\n",
        "    print(\"When i is\",i,\"the sum is\",sum)"
      ],
      "execution_count": 7,
      "outputs": [
        {
          "output_type": "stream",
          "text": [
            "When i is 3 the sum is 3\n",
            "When i is 6 the sum is 9\n",
            "When i is 9 the sum is 18\n",
            "When i is 12 the sum is 30\n"
          ],
          "name": "stdout"
        }
      ]
    },
    {
      "cell_type": "code",
      "metadata": {
        "id": "lYPVyqnfwYJi",
        "colab_type": "code",
        "colab": {
          "base_uri": "https://localhost:8080/",
          "height": 85
        },
        "outputId": "71f9eb0a-ac24-4c8c-b8c1-579b7c919492"
      },
      "source": [
        "start=3\n",
        "end=13\n",
        "step=3\n",
        "sum=0\n",
        "for i in range(start,end,step):\n",
        "    sum=sum+i \n",
        "    print(sum)"
      ],
      "execution_count": 10,
      "outputs": [
        {
          "output_type": "stream",
          "text": [
            "3\n",
            "9\n",
            "18\n",
            "30\n"
          ],
          "name": "stdout"
        }
      ]
    },
    {
      "cell_type": "code",
      "metadata": {
        "id": "Tdw6aluLxjRW",
        "colab_type": "code",
        "colab": {
          "base_uri": "https://localhost:8080/",
          "height": 54
        },
        "outputId": "aee4a1c7-cf63-4871-f841-523b898528e5"
      },
      "source": [
        "##巢狀迴圈\n",
        "#迴圈中有迴圈 由層次的迴圈\n",
        "#九九乘法表\n",
        "\n",
        "for i in range(1,10,1): #[1,2,3,4,5,6,7,8,9]\n",
        "    for j in range(1,10,1):\n",
        "        print(i,\"*\",j,\"=\",i*j,\"\\t\",sep=\"\",end=\"\")"
      ],
      "execution_count": 15,
      "outputs": [
        {
          "output_type": "stream",
          "text": [
            "1*1=1\t1*2=2\t1*3=3\t1*4=4\t1*5=5\t1*6=6\t1*7=7\t1*8=8\t1*9=9\t2*1=2\t2*2=4\t2*3=6\t2*4=8\t2*5=10\t2*6=12\t2*7=14\t2*8=16\t2*9=18\t3*1=3\t3*2=6\t3*3=9\t3*4=12\t3*5=15\t3*6=18\t3*7=21\t3*8=24\t3*9=27\t4*1=4\t4*2=8\t4*3=12\t4*4=16\t4*5=20\t4*6=24\t4*7=28\t4*8=32\t4*9=36\t5*1=5\t5*2=10\t5*3=15\t5*4=20\t5*5=25\t5*6=30\t5*7=35\t5*8=40\t5*9=45\t6*1=6\t6*2=12\t6*3=18\t6*4=24\t6*5=30\t6*6=36\t6*7=42\t6*8=48\t6*9=54\t7*1=7\t7*2=14\t7*3=21\t7*4=28\t7*5=35\t7*6=42\t7*7=49\t7*8=56\t7*9=63\t8*1=8\t8*2=16\t8*3=24\t8*4=32\t8*5=40\t8*6=48\t8*7=56\t8*8=64\t8*9=72\t9*1=9\t9*2=18\t9*3=27\t9*4=36\t9*5=45\t9*6=54\t9*7=63\t9*8=72\t9*9=81\t"
          ],
          "name": "stdout"
        }
      ]
    },
    {
      "cell_type": "code",
      "metadata": {
        "id": "9xtWc5Blzv-j",
        "colab_type": "code",
        "colab": {
          "base_uri": "https://localhost:8080/",
          "height": 131
        },
        "outputId": "128fc3fa-7fce-4085-e506-51abef6ca3fb"
      },
      "source": [
        "#特殊指令 break, continue\n",
        "\n",
        "for i in range(6): #[0,1,2,3,4,5]\n",
        "    print(i)\n",
        "    if i == 3  #跳出迴圈停止執行\n",
        "       break"
      ],
      "execution_count": 28,
      "outputs": [
        {
          "output_type": "error",
          "ename": "SyntaxError",
          "evalue": "ignored",
          "traceback": [
            "\u001b[0;36m  File \u001b[0;32m\"<ipython-input-28-20742942d109>\"\u001b[0;36m, line \u001b[0;32m4\u001b[0m\n\u001b[0;31m    if i == 3  #跳出迴圈停止執行\u001b[0m\n\u001b[0m                        ^\u001b[0m\n\u001b[0;31mSyntaxError\u001b[0m\u001b[0;31m:\u001b[0m invalid syntax\n"
          ]
        }
      ]
    },
    {
      "cell_type": "code",
      "metadata": {
        "id": "wF8VbJYS2e3I",
        "colab_type": "code",
        "colab": {
          "base_uri": "https://localhost:8080/",
          "height": 170
        },
        "outputId": "dae376c1-0e08-4008-f19e-ef3bc45bb2e9"
      },
      "source": [
        "n=0\n",
        "for i in range(6): #[0,1,2,3,4,5]\n",
        "    print (i)\n",
        "    if i %2 == 0: #繼續迴圈 停止這一圈重複\n",
        "       continue\n",
        "       print(i,'is even')\n",
        "    else:   \n",
        "       print(i,\"is odd\")"
      ],
      "execution_count": 25,
      "outputs": [
        {
          "output_type": "stream",
          "text": [
            "0\n",
            "1\n",
            "1 is odd\n",
            "2\n",
            "3\n",
            "3 is odd\n",
            "4\n",
            "5\n",
            "5 is odd\n"
          ],
          "name": "stdout"
        }
      ]
    },
    {
      "cell_type": "code",
      "metadata": {
        "id": "CTrz0gcu4uCr",
        "colab_type": "code",
        "colab": {
          "base_uri": "https://localhost:8080/",
          "height": 170
        },
        "outputId": "bbcecbad-7151-4a20-dae2-28c7d3147bb3"
      },
      "source": [
        "for i in range(6): #[0,1,2,3,4,5]\n",
        "    print (i)\n",
        "    if i %2 == 0: #繼續迴圈 停止這一圈重複\n",
        "       print(i,'is even')\n",
        "    else: \n",
        "       continue         \n",
        "       print(i,\"is odd\")"
      ],
      "execution_count": 29,
      "outputs": [
        {
          "output_type": "stream",
          "text": [
            "0\n",
            "0 is even\n",
            "1\n",
            "2\n",
            "2 is even\n",
            "3\n",
            "4\n",
            "4 is even\n",
            "5\n"
          ],
          "name": "stdout"
        }
      ]
    }
  ]
}